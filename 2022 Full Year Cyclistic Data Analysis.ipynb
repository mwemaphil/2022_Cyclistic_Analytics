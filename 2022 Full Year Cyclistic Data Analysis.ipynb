{
 "cells": [
  {
   "cell_type": "markdown",
   "id": "a2a8cffb",
   "metadata": {},
   "source": [
    "# 2022 Cyclistic Data Analytics\n",
    "\n",
    "## Analysis done by Philip Mwema\n",
    "\n",
    "- **Cyclistic**, a bike-share company cinsisting of 5,824 bicycles and 692 docking stations in Chicago, USA. Cyclistic offers traditional bikes,  reclining bikes, hand tricycles, and cargo bikes making the bike-share more inclusive to everybody including people with disabilities and riders who can’t use a standard two-wheeled bike. The majority of riders opt for traditional bikes; about 8% of riders use the assistive options. Cyclistic users are more likely to ride for leisure, but about 30% use them to commute to work each day. \n",
    "\n",
    "* The purpose of this analysis is comparing how causal members and annual paying subscribers differ.\n",
    "* Data of the last 12 months was downloaded from [Cyclistic’s historical trip data](https://divvy-tripdata.s3.amazonaws.com/index.html), for the last 12 months, that is from January 2022 to December 2022."
   ]
  },
  {
   "cell_type": "markdown",
   "id": "ce1ee4db",
   "metadata": {},
   "source": [
    "###### Importing Packages"
   ]
  },
  {
   "cell_type": "code",
   "execution_count": 2,
   "id": "1efb5c7b",
   "metadata": {},
   "outputs": [],
   "source": [
    "#Importing pacakges to be used\n",
    "\n",
    "import pandas as pd\n",
    "import numpy as np\n",
    "import matplotlib.pyplot as plt\n",
    "import seaborn as sb"
   ]
  },
  {
   "cell_type": "markdown",
   "id": "3769b139",
   "metadata": {},
   "source": [
    "## Data Wrangling\n",
    "Data wrangling will be done in three steps:\n",
    "1. Data Gathering \n",
    "2. Data Assessment\n",
    "3. Data Cleaning"
   ]
  },
  {
   "cell_type": "markdown",
   "id": "a7710635",
   "metadata": {},
   "source": [
    "## 1. Data Gathering\n",
    "- Data of the last 12 months was downloaded from [Cyclistic’s historical trip data](https://divvy-tripdata.s3.amazonaws.com/index.html), for the last 12 months, that is from January 2022 to December 2022. Notice that each month will have its own dataset hence we will download 12 different datasets and merge into one csv data."
   ]
  },
  {
   "cell_type": "code",
   "execution_count": 3,
   "id": "71276243",
   "metadata": {},
   "outputs": [],
   "source": [
    "#Loading the 12 datasets for the months ending Dec 2022\n",
    "jan = pd.read_csv('202201-divvy-tripdata.csv')\n",
    "feb = pd.read_csv('202202-divvy-tripdata.csv')\n",
    "mar = pd.read_csv('202203-divvy-tripdata.csv')\n",
    "apr = pd.read_csv('202204-divvy-tripdata.csv')\n",
    "may = pd.read_csv('202205-divvy-tripdata.csv')\n",
    "jun = pd.read_csv('202206-divvy-tripdata.csv')\n",
    "jul = pd.read_csv('202207-divvy-tripdata.csv')\n",
    "aug = pd.read_csv('202208-divvy-tripdata.csv')\n",
    "sep = pd.read_csv('202209-divvy-publictripdata.csv')\n",
    "oct = pd.read_csv('202210-divvy-tripdata.csv')\n",
    "nov = pd.read_csv('202211-divvy-tripdata.csv')\n",
    "dec = pd.read_csv('202212-divvy-tripdata.csv')"
   ]
  },
  {
   "cell_type": "code",
   "execution_count": 4,
   "id": "c02330ee",
   "metadata": {},
   "outputs": [
    {
     "name": "stdout",
     "output_type": "stream",
     "text": [
      "(103770, 13)\n",
      "(115609, 13)\n",
      "(284042, 13)\n",
      "(371249, 13)\n",
      "(634858, 13)\n",
      "(769204, 13)\n",
      "(823488, 13)\n",
      "(785932, 13)\n",
      "(701339, 13)\n",
      "(558685, 13)\n",
      "(337735, 13)\n",
      "(181806, 13)\n"
     ]
    }
   ],
   "source": [
    "#Assessing the shape info of the 12 datasets\n",
    "months  = [jan, feb, mar, apr, may, jun, jul, aug, sep, oct, nov, dec]\n",
    "\n",
    "for month in months:\n",
    "    print(month.shape)"
   ]
  },
  {
   "cell_type": "markdown",
   "id": "91a1739a",
   "metadata": {},
   "source": [
    "- From the above shapes, we can see all the 12 datasets have the same number of columns, 13, so we will go ahead and merge all of them for cleaner assessment and analysis."
   ]
  },
  {
   "cell_type": "code",
   "execution_count": 4,
   "id": "07c30f13",
   "metadata": {},
   "outputs": [],
   "source": [
    "months  = [jan, feb, mar, apr, may, jun, jul, aug, sep, oct, nov, dec]"
   ]
  },
  {
   "cell_type": "code",
   "execution_count": 5,
   "id": "b4cdb7e0",
   "metadata": {},
   "outputs": [],
   "source": [
    "data = pd.concat(months)"
   ]
  },
  {
   "cell_type": "markdown",
   "id": "303f76a2",
   "metadata": {},
   "source": [
    "- **Lets's have a look at a sample of the merged dataset**"
   ]
  },
  {
   "cell_type": "code",
   "execution_count": 14,
   "id": "4f41b3d4",
   "metadata": {},
   "outputs": [
    {
     "data": {
      "text/html": [
       "<div>\n",
       "<style scoped>\n",
       "    .dataframe tbody tr th:only-of-type {\n",
       "        vertical-align: middle;\n",
       "    }\n",
       "\n",
       "    .dataframe tbody tr th {\n",
       "        vertical-align: top;\n",
       "    }\n",
       "\n",
       "    .dataframe thead th {\n",
       "        text-align: right;\n",
       "    }\n",
       "</style>\n",
       "<table border=\"1\" class=\"dataframe\">\n",
       "  <thead>\n",
       "    <tr style=\"text-align: right;\">\n",
       "      <th></th>\n",
       "      <th>ride_id</th>\n",
       "      <th>rideable_type</th>\n",
       "      <th>started_at</th>\n",
       "      <th>ended_at</th>\n",
       "      <th>start_station_name</th>\n",
       "      <th>start_station_id</th>\n",
       "      <th>end_station_name</th>\n",
       "      <th>end_station_id</th>\n",
       "      <th>start_lat</th>\n",
       "      <th>start_lng</th>\n",
       "      <th>end_lat</th>\n",
       "      <th>end_lng</th>\n",
       "      <th>member_casual</th>\n",
       "    </tr>\n",
       "  </thead>\n",
       "  <tbody>\n",
       "    <tr>\n",
       "      <th>97071</th>\n",
       "      <td>2568D26BCF7A8FA7</td>\n",
       "      <td>electric_bike</td>\n",
       "      <td>2022-10-02 10:11:35</td>\n",
       "      <td>2022-10-02 10:14:23</td>\n",
       "      <td>Dearborn St &amp; Erie St</td>\n",
       "      <td>13045</td>\n",
       "      <td>LaSalle St &amp; Illinois St</td>\n",
       "      <td>13430</td>\n",
       "      <td>41.894192</td>\n",
       "      <td>-87.629190</td>\n",
       "      <td>41.890762</td>\n",
       "      <td>-87.631697</td>\n",
       "      <td>casual</td>\n",
       "    </tr>\n",
       "    <tr>\n",
       "      <th>652397</th>\n",
       "      <td>840959D380B8B86D</td>\n",
       "      <td>electric_bike</td>\n",
       "      <td>2022-07-30 16:53:48</td>\n",
       "      <td>2022-07-30 17:15:56</td>\n",
       "      <td>Sedgwick St &amp; Webster Ave</td>\n",
       "      <td>13191</td>\n",
       "      <td>NaN</td>\n",
       "      <td>NaN</td>\n",
       "      <td>41.922116</td>\n",
       "      <td>-87.639008</td>\n",
       "      <td>41.880000</td>\n",
       "      <td>-87.620000</td>\n",
       "      <td>member</td>\n",
       "    </tr>\n",
       "    <tr>\n",
       "      <th>332433</th>\n",
       "      <td>636F66B84893B564</td>\n",
       "      <td>classic_bike</td>\n",
       "      <td>2022-10-17 14:00:37</td>\n",
       "      <td>2022-10-17 14:05:28</td>\n",
       "      <td>Ellis Ave &amp; 60th St</td>\n",
       "      <td>KA1503000014</td>\n",
       "      <td>Ellis Ave &amp; 55th St</td>\n",
       "      <td>KA1504000076</td>\n",
       "      <td>41.785097</td>\n",
       "      <td>-87.601073</td>\n",
       "      <td>41.794301</td>\n",
       "      <td>-87.601450</td>\n",
       "      <td>member</td>\n",
       "    </tr>\n",
       "  </tbody>\n",
       "</table>\n",
       "</div>"
      ],
      "text/plain": [
       "                 ride_id  rideable_type           started_at  \\\n",
       "97071   2568D26BCF7A8FA7  electric_bike  2022-10-02 10:11:35   \n",
       "652397  840959D380B8B86D  electric_bike  2022-07-30 16:53:48   \n",
       "332433  636F66B84893B564   classic_bike  2022-10-17 14:00:37   \n",
       "\n",
       "                   ended_at         start_station_name start_station_id  \\\n",
       "97071   2022-10-02 10:14:23      Dearborn St & Erie St            13045   \n",
       "652397  2022-07-30 17:15:56  Sedgwick St & Webster Ave            13191   \n",
       "332433  2022-10-17 14:05:28        Ellis Ave & 60th St     KA1503000014   \n",
       "\n",
       "                end_station_name end_station_id  start_lat  start_lng  \\\n",
       "97071   LaSalle St & Illinois St          13430  41.894192 -87.629190   \n",
       "652397                       NaN            NaN  41.922116 -87.639008   \n",
       "332433       Ellis Ave & 55th St   KA1504000076  41.785097 -87.601073   \n",
       "\n",
       "          end_lat    end_lng member_casual  \n",
       "97071   41.890762 -87.631697        casual  \n",
       "652397  41.880000 -87.620000        member  \n",
       "332433  41.794301 -87.601450        member  "
      ]
     },
     "execution_count": 14,
     "metadata": {},
     "output_type": "execute_result"
    }
   ],
   "source": [
    "data.sample(3)"
   ]
  },
  {
   "cell_type": "markdown",
   "id": "fc345a36",
   "metadata": {},
   "source": [
    "## 2. Assessment of the Data\n",
    "- In this section we will assess the merged data both visually and programmatic to look out for tidiness and quality issues in the data so that they may be cleaned and visuallized accordingly"
   ]
  },
  {
   "cell_type": "code",
   "execution_count": 15,
   "id": "05279333",
   "metadata": {
    "scrolled": true
   },
   "outputs": [
    {
     "data": {
      "text/plain": [
       "(5667717, 13)"
      ]
     },
     "execution_count": 15,
     "metadata": {},
     "output_type": "execute_result"
    }
   ],
   "source": [
    "#shape of the data in terms of columns and rows\n",
    "data.shape"
   ]
  },
  {
   "cell_type": "markdown",
   "id": "0a80a810",
   "metadata": {},
   "source": [
    "- **After merging the data we now have 5,667,717 rows of data with still the same columns, 13.**"
   ]
  },
  {
   "cell_type": "code",
   "execution_count": 16,
   "id": "cbcfad47",
   "metadata": {},
   "outputs": [
    {
     "data": {
      "text/plain": [
       "Index(['ride_id', 'rideable_type', 'started_at', 'ended_at',\n",
       "       'start_station_name', 'start_station_id', 'end_station_name',\n",
       "       'end_station_id', 'start_lat', 'start_lng', 'end_lat', 'end_lng',\n",
       "       'member_casual'],\n",
       "      dtype='object')"
      ]
     },
     "execution_count": 16,
     "metadata": {},
     "output_type": "execute_result"
    }
   ],
   "source": [
    "#Columns of the data]\n",
    "data.columns"
   ]
  },
  {
   "cell_type": "markdown",
   "id": "833d7fda",
   "metadata": {},
   "source": [
    "From the datset we have these 13 columns:\n",
    "\n",
    "1. **ride_id:** Unique ID for all the rides\n",
    "2. **rideable_type:** Either Electric bike, Classic bike or Docked Bike.\n",
    "3. **started_at:** Time the ride started at a given station.\n",
    "4. **ended_at:** Time the ride ended at a given station.\n",
    "5. **start_station_name:** Station name where a rider started the bicycle ride, not necessarily the same station where the member must end the ride\n",
    "6. **start_station_id:** Unique ID of the 692 Docking Stations.\n",
    "7. **end_station_name:** Station name where a rider ended the bicycle ride, not necessarily the same station where the member started the ride, riders can start and edn rides anywhere among the given stations for the ride-share company.\n",
    "8. **end_station_id:** Unique ID of the 692 Docking Stations.\n",
    "9. **start_lat:** Geographical location of the starting Docking Station in Latitude.\n",
    "10. **start_lng:** Geographical location of the starting Docking Station in Longitude.\n",
    "11. **end_lat:**: Geographical location of the ending Docking Station in Latitude.\n",
    "12. **end_lng:** Geographical location of the ending Docking Station in Longitude.\n",
    "13. **member_casual:** Type of member hauling the bicycles, either Casual or Member. A casual rider hires the bicycles for a single ride while Member riders are annual subscribers. \n"
   ]
  },
  {
   "cell_type": "code",
   "execution_count": 17,
   "id": "a0436d83",
   "metadata": {},
   "outputs": [
    {
     "data": {
      "text/plain": [
       "ride_id                object\n",
       "rideable_type          object\n",
       "started_at             object\n",
       "ended_at               object\n",
       "start_station_name     object\n",
       "start_station_id       object\n",
       "end_station_name       object\n",
       "end_station_id         object\n",
       "start_lat             float64\n",
       "start_lng             float64\n",
       "end_lat               float64\n",
       "end_lng               float64\n",
       "member_casual          object\n",
       "dtype: object"
      ]
     },
     "execution_count": 17,
     "metadata": {},
     "output_type": "execute_result"
    }
   ],
   "source": [
    "#Data types of the columns of the data\n",
    "data.dtypes"
   ]
  },
  {
   "cell_type": "code",
   "execution_count": 18,
   "id": "04f21872",
   "metadata": {},
   "outputs": [
    {
     "name": "stdout",
     "output_type": "stream",
     "text": [
      "<class 'pandas.core.frame.DataFrame'>\n",
      "Int64Index: 5667717 entries, 0 to 181805\n",
      "Data columns (total 13 columns):\n",
      " #   Column              Dtype  \n",
      "---  ------              -----  \n",
      " 0   ride_id             object \n",
      " 1   rideable_type       object \n",
      " 2   started_at          object \n",
      " 3   ended_at            object \n",
      " 4   start_station_name  object \n",
      " 5   start_station_id    object \n",
      " 6   end_station_name    object \n",
      " 7   end_station_id      object \n",
      " 8   start_lat           float64\n",
      " 9   start_lng           float64\n",
      " 10  end_lat             float64\n",
      " 11  end_lng             float64\n",
      " 12  member_casual       object \n",
      "dtypes: float64(4), object(9)\n",
      "memory usage: 605.4+ MB\n"
     ]
    }
   ],
   "source": [
    "#getting even more information about the data\n",
    "data.info()"
   ]
  },
  {
   "cell_type": "markdown",
   "id": "31d0a4f5",
   "metadata": {},
   "source": [
    "- **One of issues noted from the datatypes above is the mistyped date type, in `started_at` and `ended_at`, it will be fixed in the cleaning section**"
   ]
  },
  {
   "cell_type": "code",
   "execution_count": 19,
   "id": "48f17f85",
   "metadata": {},
   "outputs": [
    {
     "data": {
      "text/plain": [
       "ride_id                    0\n",
       "rideable_type              0\n",
       "started_at                 0\n",
       "ended_at                   0\n",
       "start_station_name    833064\n",
       "start_station_id      833064\n",
       "end_station_name      892742\n",
       "end_station_id        892742\n",
       "start_lat                  0\n",
       "start_lng                  0\n",
       "end_lat                 5858\n",
       "end_lng                 5858\n",
       "member_casual              0\n",
       "dtype: int64"
      ]
     },
     "execution_count": 19,
     "metadata": {},
     "output_type": "execute_result"
    }
   ],
   "source": [
    "#Finding rows with null values that might need cleaning\n",
    "data.isnull().sum()"
   ]
  },
  {
   "cell_type": "markdown",
   "id": "80acf27a",
   "metadata": {},
   "source": [
    "- **Station names and IDs, both start and end, together with end lat and lng have null values, which we will deal with in the cleaning section.**"
   ]
  },
  {
   "cell_type": "code",
   "execution_count": 20,
   "id": "8032ed46",
   "metadata": {},
   "outputs": [
    {
     "data": {
      "text/plain": [
       "0"
      ]
     },
     "execution_count": 20,
     "metadata": {},
     "output_type": "execute_result"
    }
   ],
   "source": [
    "data.duplicated().sum()"
   ]
  },
  {
   "cell_type": "markdown",
   "id": "70a24a47",
   "metadata": {},
   "source": [
    "- **There are no duplicated values in the rows**"
   ]
  },
  {
   "cell_type": "markdown",
   "id": "ab17b25f",
   "metadata": {},
   "source": [
    "#### Keynotes found in the data from assessment\n",
    "1. started_at and ended_at have the object type rather than datetime type.\n",
    "2. We need to add another column for the difference between end time and start time, ride_length to know duration taken per each trip.\n",
    "3. We need to create another column to determine the day of the week for every given trip from the started_at date.\n",
    "4. We need to create another column to determine the month for every given trip from the started_at date.\n",
    "5. start_station_name, start_station_id, end_station_name. ,end_station_id, end_lat and end_lng have null values\n",
    "6. No Duplicates found in the dataset\n",
    "7. Columns are named accordingly"
   ]
  },
  {
   "cell_type": "markdown",
   "id": "d8a91fbb",
   "metadata": {},
   "source": [
    "## 3. Cleaning\n",
    "- In this section we will clean data and do more tidying up from the issues noted from assessment."
   ]
  },
  {
   "cell_type": "code",
   "execution_count": 21,
   "id": "4188a44d",
   "metadata": {},
   "outputs": [],
   "source": [
    "#1. Assigning date type to started_at and ended_at columns\n",
    "\n",
    "data['started_at'] = pd.to_datetime(data['started_at'])\n",
    "data['ended_at'] = pd.to_datetime(data['ended_at'])"
   ]
  },
  {
   "cell_type": "code",
   "execution_count": 22,
   "id": "257ef264",
   "metadata": {},
   "outputs": [
    {
     "name": "stdout",
     "output_type": "stream",
     "text": [
      "datetime64[ns]\n",
      "datetime64[ns]\n"
     ]
    }
   ],
   "source": [
    "#Testing \n",
    "print(data['started_at'].dtype)\n",
    "print(data['ended_at'].dtype)"
   ]
  },
  {
   "cell_type": "code",
   "execution_count": 23,
   "id": "17e581f2",
   "metadata": {},
   "outputs": [],
   "source": [
    "#2 Adding the ride_length column from the difference of end and start times of rides\n",
    "data['ride_length'] = data['ended_at'] - data['started_at']"
   ]
  },
  {
   "cell_type": "code",
   "execution_count": 24,
   "id": "d216eb5c",
   "metadata": {},
   "outputs": [
    {
     "data": {
      "text/plain": [
       "499454   0 days 00:06:12\n",
       "381977   0 days 00:01:03\n",
       "268957   0 days 00:10:10\n",
       "Name: ride_length, dtype: timedelta64[ns]"
      ]
     },
     "execution_count": 24,
     "metadata": {},
     "output_type": "execute_result"
    }
   ],
   "source": [
    "#Testing\n",
    "data['ride_length'].sample(3) "
   ]
  },
  {
   "cell_type": "code",
   "execution_count": 25,
   "id": "0148ba4e",
   "metadata": {},
   "outputs": [],
   "source": [
    "#The outcome is in dates format, yes, but we'll need to convert the time into minutes.\n",
    "## First we will convert the values to seconds programmatically using pandas and then to minutes.\n",
    "data['ride_length'] = data['ride_length'].dt.total_seconds()"
   ]
  },
  {
   "cell_type": "code",
   "execution_count": 26,
   "id": "5b7c144f",
   "metadata": {},
   "outputs": [],
   "source": [
    "#Convert column values to minutes\n",
    "data['ride_length'] = data['ride_length']/60"
   ]
  },
  {
   "cell_type": "code",
   "execution_count": 27,
   "id": "a2ccd192",
   "metadata": {},
   "outputs": [
    {
     "data": {
      "text/plain": [
       "694463    15.666667\n",
       "439278     9.683333\n",
       "436991     1.183333\n",
       "Name: ride_length, dtype: float64"
      ]
     },
     "execution_count": 27,
     "metadata": {},
     "output_type": "execute_result"
    }
   ],
   "source": [
    "#Testing\n",
    "data['ride_length'].sample(3)"
   ]
  },
  {
   "cell_type": "code",
   "execution_count": 28,
   "id": "2ac57052",
   "metadata": {},
   "outputs": [],
   "source": [
    "#3 Day of the Week column generation.\n",
    "data['day_of_week'] = data['started_at'].dt.day_name()"
   ]
  },
  {
   "cell_type": "code",
   "execution_count": 29,
   "id": "3a38a034",
   "metadata": {},
   "outputs": [
    {
     "data": {
      "text/plain": [
       "242      Wednesday\n",
       "26990      Tuesday\n",
       "22508     Saturday\n",
       "Name: day_of_week, dtype: object"
      ]
     },
     "execution_count": 29,
     "metadata": {},
     "output_type": "execute_result"
    }
   ],
   "source": [
    "#Testing\n",
    "data['day_of_week'].sample(3)"
   ]
  },
  {
   "cell_type": "code",
   "execution_count": 30,
   "id": "60ec4bee",
   "metadata": {},
   "outputs": [],
   "source": [
    "#4 Month Generation\n",
    "data['month'] =  data['started_at'].dt.month"
   ]
  },
  {
   "cell_type": "code",
   "execution_count": 31,
   "id": "25f73169",
   "metadata": {},
   "outputs": [
    {
     "data": {
      "text/plain": [
       "334321    4\n",
       "588030    6\n",
       "3014      3\n",
       "Name: month, dtype: int64"
      ]
     },
     "execution_count": 31,
     "metadata": {},
     "output_type": "execute_result"
    }
   ],
   "source": [
    "data['month'].sample(3)"
   ]
  },
  {
   "cell_type": "markdown",
   "id": "94b84b73",
   "metadata": {},
   "source": [
    "- Month has been generated in numbers format, i.e 1 for January, 2 for February and so on. Next up is to replace the numbers with Month official names."
   ]
  },
  {
   "cell_type": "code",
   "execution_count": 32,
   "id": "29e7f264",
   "metadata": {},
   "outputs": [],
   "source": [
    "#Generating Month names\n",
    "data['month'] = data['month'].replace([1, 2, 3, 4, 5, 6, 7, 8, 9, 10, 11, 12], ['January', 'February', 'March', 'April', 'May', 'June', 'July', 'August', 'September', 'October', 'November', 'December'])"
   ]
  },
  {
   "cell_type": "code",
   "execution_count": 33,
   "id": "4ad5c7a5",
   "metadata": {},
   "outputs": [
    {
     "data": {
      "text/plain": [
       "272866       May\n",
       "413548    August\n",
       "375529      July\n",
       "Name: month, dtype: object"
      ]
     },
     "execution_count": 33,
     "metadata": {},
     "output_type": "execute_result"
    }
   ],
   "source": [
    "#Testing\n",
    "data['month'].sample(3)"
   ]
  },
  {
   "cell_type": "code",
   "execution_count": 34,
   "id": "e7bf92b5",
   "metadata": {},
   "outputs": [
    {
     "data": {
      "text/plain": [
       "ride_id                    0\n",
       "rideable_type              0\n",
       "started_at                 0\n",
       "ended_at                   0\n",
       "start_station_name    833064\n",
       "start_station_id      833064\n",
       "end_station_name      892742\n",
       "end_station_id        892742\n",
       "start_lat                  0\n",
       "start_lng                  0\n",
       "end_lat                 5858\n",
       "end_lng                 5858\n",
       "member_casual              0\n",
       "ride_length                0\n",
       "day_of_week                0\n",
       "month                      0\n",
       "dtype: int64"
      ]
     },
     "execution_count": 34,
     "metadata": {},
     "output_type": "execute_result"
    }
   ],
   "source": [
    "#5 Null Values\n",
    "data.isnull().sum()"
   ]
  },
  {
   "cell_type": "markdown",
   "id": "22dad8f1",
   "metadata": {},
   "source": [
    "- **The above missing values are as a result of erroneous data entry and even if missing we cannot omit the values and we will continue along with our analysis as is.**"
   ]
  },
  {
   "cell_type": "markdown",
   "id": "c7ba2cdb",
   "metadata": {},
   "source": [
    "### Storage\n",
    "- In this section we will store the cleaned data into a news csv document since the cleanup process has beed done"
   ]
  },
  {
   "cell_type": "code",
   "execution_count": 35,
   "id": "47aa6380",
   "metadata": {},
   "outputs": [],
   "source": [
    "#Storing the master data\n",
    "data.to_csv('clean_data.csv')"
   ]
  },
  {
   "cell_type": "markdown",
   "id": "c75b07a2",
   "metadata": {},
   "source": [
    "## Analyszing and Visualization of the Data\n"
   ]
  },
  {
   "cell_type": "code",
   "execution_count": 31,
   "id": "de9879e2",
   "metadata": {},
   "outputs": [
    {
     "data": {
      "text/plain": [
       "41387.25"
      ]
     },
     "execution_count": 31,
     "metadata": {},
     "output_type": "execute_result"
    }
   ],
   "source": [
    "max_length = data['ride_length'].max()\n",
    "max_length"
   ]
  },
  {
   "cell_type": "markdown",
   "id": "108fe7b7",
   "metadata": {},
   "source": [
    "* The Maximum length of time used per a given ride is, **41387.25 minutes**, which converts to approximately **689 hours**, or **28.74** days which is equivalent to **1 Month.**"
   ]
  },
  {
   "cell_type": "code",
   "execution_count": 32,
   "id": "c460b8ae",
   "metadata": {},
   "outputs": [
    {
     "data": {
      "text/plain": [
       "19.44328574450607"
      ]
     },
     "execution_count": 32,
     "metadata": {},
     "output_type": "execute_result"
    }
   ],
   "source": [
    "mean_length = data['ride_length'].mean()\n",
    "mean_length"
   ]
  },
  {
   "cell_type": "markdown",
   "id": "d6bfceb0",
   "metadata": {},
   "source": [
    "* The Mean length of time used per a given ride is, **19.44 minutes**"
   ]
  },
  {
   "cell_type": "code",
   "execution_count": 33,
   "id": "fcc6e5f1",
   "metadata": {},
   "outputs": [
    {
     "data": {
      "text/plain": [
       "0    Saturday\n",
       "Name: day_of_week, dtype: object"
      ]
     },
     "execution_count": 33,
     "metadata": {},
     "output_type": "execute_result"
    }
   ],
   "source": [
    "most_days = data['day_of_week'].mode()\n",
    "most_days"
   ]
  },
  {
   "cell_type": "markdown",
   "id": "4f8d4a41",
   "metadata": {},
   "source": [
    "* Most frequently used day of the rides was on **Saturdays**"
   ]
  },
  {
   "cell_type": "markdown",
   "id": "66159d18",
   "metadata": {},
   "source": [
    "### Questions to answer in Visualization.\n",
    "\n",
    "1. How do members compare?\n",
    "2. What is the distribution in terms of months\n",
    "3. What is the distribution in terms of days\n",
    "4. What is the distribution in terms of ride type"
   ]
  },
  {
   "cell_type": "markdown",
   "id": "195ce08b",
   "metadata": {},
   "source": [
    "### 1. How do members compare?"
   ]
  },
  {
   "cell_type": "code",
   "execution_count": 42,
   "id": "48c366ad",
   "metadata": {},
   "outputs": [
    {
     "data": {
      "image/png": "[encoded data removed]",
      "text/plain": [
       "<Figure size 640x480 with 1 Axes>"
      ]
     },
     "metadata": {},
     "output_type": "display_data"
    }
   ],
   "source": [
    "data.member_casual.value_counts().plot(kind='pie');"
   ]
  },
  {
   "cell_type": "markdown",
   "id": "98af02f3",
   "metadata": {},
   "source": [
    "* Annual Members have a bigger percentage of riders compard to casual riders"
   ]
  },
  {
   "cell_type": "markdown",
   "id": "4b9633bd",
   "metadata": {},
   "source": [
    "### 2. What is the distribution in terms of months?"
   ]
  },
  {
   "cell_type": "code",
   "execution_count": 39,
   "id": "3efe6571",
   "metadata": {},
   "outputs": [
    {
     "data": {
      "image/png": "[encoded data removed]",
      "text/plain": [
       "<Figure size 640x480 with 1 Axes>"
      ]
     },
     "metadata": {},
     "output_type": "display_data"
    }
   ],
   "source": [
    "data.month.value_counts().plot(kind='barh');"
   ]
  },
  {
   "cell_type": "markdown",
   "id": "585501ed",
   "metadata": {},
   "source": [
    "* July has the most usage in numbers of riders, followed closely by by August and June, while January, February and December are among the least in terms of usage by riders both casual and members.\n",
    "* From this we can interpret that Summer season has the most rides compared to the Winter season while the rest of the two seasons shares the spoils."
   ]
  },
  {
   "cell_type": "markdown",
   "id": "899020a7",
   "metadata": {},
   "source": [
    "### 3. What is the distribution in terms of ride type?"
   ]
  },
  {
   "cell_type": "code",
   "execution_count": 44,
   "id": "b8002ed9",
   "metadata": {
    "scrolled": false
   },
   "outputs": [
    {
     "data": {
      "image/png": "[encoded data removed]",
      "text/plain": [
       "<Figure size 640x480 with 1 Axes>"
      ]
     },
     "metadata": {},
     "output_type": "display_data"
    }
   ],
   "source": [
    "data.rideable_type.value_counts().plot(kind='barh');"
   ]
  },
  {
   "cell_type": "markdown",
   "id": "2bb6e6a0",
   "metadata": {},
   "source": [
    "* Electric bikes are more common compared to Classic bikes and the least common are the Docked bikes meant for people who are abled differently."
   ]
  },
  {
   "cell_type": "markdown",
   "id": "20132f99",
   "metadata": {},
   "source": [
    "### 4. What is the distribution in terms of days?"
   ]
  },
  {
   "cell_type": "code",
   "execution_count": 41,
   "id": "dba30b32",
   "metadata": {},
   "outputs": [
    {
     "data": {
      "image/png": "[encoded data removed]",
      "text/plain": [
       "<Figure size 640x480 with 1 Axes>"
      ]
     },
     "metadata": {},
     "output_type": "display_data"
    }
   ],
   "source": [
    "data.day_of_week.value_counts().plot(kind='barh');"
   ]
  },
  {
   "cell_type": "markdown",
   "id": "646aefda",
   "metadata": {},
   "source": [
    "* Saturday is the most common day, since it's the most weekend day of the weekend. with Monday having the least usage."
   ]
  },
  {
   "cell_type": "markdown",
   "id": "d76dee7f",
   "metadata": {},
   "source": [
    "### Conclusions and Recommendations\n",
    "1. The biggest percentage of members are annual subscribers comapred to casual members\n",
    "2. The months with the highest usage are **July**, **August** and **June** with the least usage months being, **January**, **February** and **December**; This makes **summer** have the highest usage compared to other seasons.\n",
    "3. The day of the week with the highest usage is **Saturday** as it is the weekend\n",
    "4. The most common ride type is the **electric bikes**.\n",
    "5. The average ride per minute for the 2022 period was **19.44 minutes** with the highest member hiring a bike for close to a full month, in **28.74 days**"
   ]
  },
  {
   "cell_type": "markdown",
   "id": "7df2242e",
   "metadata": {},
   "source": [
    "### The clean dataset was exported to Tableau for finer visualization"
   ]
  }
 ],
 "metadata": {
  "kernelspec": {
   "display_name": "Python 3 (ipykernel)",
   "language": "python",
   "name": "python3"
  },
  "language_info": {
   "codemirror_mode": {
    "name": "ipython",
    "version": 3
   },
   "file_extension": ".py",
   "mimetype": "text/x-python",
   "name": "python",
   "nbconvert_exporter": "python",
   "pygments_lexer": "ipython3",
   "version": "3.9.13"
  }
 },
 "nbformat": 4,
 "nbformat_minor": 5
}
